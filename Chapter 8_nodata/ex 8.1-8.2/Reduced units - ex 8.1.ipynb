{
 "cells": [
  {
   "cell_type": "markdown",
   "id": "07e553a3",
   "metadata": {},
   "source": [
    "# Off-lattice simulations: basics\n",
    "\n",
    "$\\textbf{Exercise}$ Reduced units: Tyipical sets of parameters for Argon and Kripton are $σ_{Ar} = 3.41Å$, $σ_{Kr} = 3.38Å$ for their typical size and $\\epsilon_{Ar}$/$k_B$ = 119.8K and $\\epsilon_{Kr}$/$k_B$ = 164.0K.\n",
    "\n",
    "  1) At the reduced temperature $T^∗ = 2$, what is the temperature of Argon and Kelvin?<br>\n",
    "  2) typical value of the integration time step for MD is $\\Delta t = 0.001\\tau$ . Convert it in SI units for\n",
    "Argon and Kripton.<br>\n",
    " 3) Compute the expression for the friction coefficient and the dynamical viscosity in reduced units.<br>\n",
    " \n",
    " -------------"
   ]
  },
  {
   "cell_type": "markdown",
   "id": "b6aba3fb",
   "metadata": {},
   "source": [
    "1) In reduced units, we use dimensionless quantities to describe the properties of a system. The reduced temperature $ T^* $ is defined as $ T^* = \\frac{k_B T}{\\epsilon} $, where $ k_B $ is the Boltzmann constant, $ T $ is the temperature in Kelvin, $ \\epsilon $ is the characteristic energy of the system. This can be easily showed:<br>\n",
    "$$\n",
    "T= \\alpha \\frac{E}{k_B} = \\alpha  \\frac{E^* \\epsilon}{k_B} = T^* \\frac{\\epsilon}{k_B} \n",
    "$$\n",
    "\n",
    "We can rearrange the formula to solve for $T$:\n",
    "\n",
    "\n",
    "   - $T_{Ar} = T^* \\epsilon_{Ar}/ k_B = 2\\cdot 119.8K = 239.6 K$\n",
    "   - $T_{Kr} = T^* \\epsilon_{Kr}/ k_B = 2\\cdot 164.0K = 328 K $ ù\n",
    "  \n",
    "\n",
    "2) Recall that the unit of measurement of time has this property\n",
    "$$[force] = [mass] \\cdot \\frac{[length]}{[time]^2} \\longrightarrow [time] = \\sqrt{\\frac{[mass] \\cdot [length]}{[force]}} = \\sqrt{\\frac{[mass] \\cdot [length]}{[energy] }[length]}, $$\n",
    "\n",
    "where the last equality come from this relation $[Work] = [F][X]$. At the end the relationship between the reduced time $t^*$ and S.I. time $t$ is given by: $t^* = t \\sigma^{-1} \\sqrt{\\epsilon / M }$. <br>\n",
    "As regard the mass: <br>\n",
    "    $m_{\\text{Ar}} \\approx 2Z_{\\text{Ar}}u \\approx 36 \\, \\text{u} = 36 \\times 1.660539040 \\times 10^{-27} \\, \\text{kg/u} \\approx 5.98 \\cdot 10^{-26} \\, \\text{kg} $<br>\n",
    "    $m_{\\text{Kr}} \\approx 2Z_{\\text{Kr}}u  \\approx 52\\text{u} = 3.19 \\cdot 10^{-25} kg$<br>\n",
    "    <br>\n",
    "Therefore, the integration time step in SI units is approximately :<br>\n",
    "     $\\Delta t_{Ar} = 0.001 \\times \\frac{\\sigma_{Ar}^{-1}}{\\sqrt{\\epsilon_{Ar}/m_{Ar}}} $<br>\n",
    "     $ \\Delta t_{Kr} = 0.001 \\times \\frac{\\sigma_{Kr}^{-1}}{\\sqrt{\\epsilon_{Kr}/m_{Kr}}} $<br>\n",
    "     \n",
    "Substitute the known values and calculate:\n",
    "\n",
    "$ \\Delta t_{\\text{Ar}} = 0.001 \\times \\frac{1}{3.41 \\, \\text{Å}} \\times \\frac{1}{\\sqrt{\\frac{119.8 \\, \\text{k_B}}{6 \\times 10^{-26} \\, \\text{kg}}}} \\approx 2.05  \\times 10^{-15}$\n",
    "\n",
    "$ \\Delta t_{\\text{Kr}} = 0.001 \\times \\frac{1}{3.38 \\, \\text{Å}} \\times \\frac{1}{\\sqrt{\\frac{164.0 \\, \\text{k_B}}{3.19 \\times 10^{-25} \\, \\text{kg}}}}\\approx 8.6\\times 10^{-8}$\n",
    "   \n",
    "3) The formula for the coefficient of viscosity is: $\\eta = F dx / A dv $ where,<br>\n",
    "   - $\\eta$ is the coefficient of viscosity;<br>\n",
    "   - $dv/dx$ is the velocity gradient between two layers of liquid;<br>\n",
    "   - $F$ is the viscous force;<br>\n",
    "   - $A$ is the surface area.<br>\n",
    "  The viscosity in reduced units is: $\\eta^* = \\eta \\cdot  ( \\frac{\\sigma}{\\epsilon})(\\frac{1}{\\sigma}) /((\\frac{1}{\\sigma^2})(\\frac{1}{\\sqrt{\\epsilon/M}})) = \\eta \\cdot  \\sigma^2 \\sqrt{M / \\epsilon}$\n",
    "  "
   ]
  },
  {
   "cell_type": "markdown",
   "id": "34314515",
   "metadata": {},
   "source": [
    "Where \n",
    "* for the force we have $[Work] = [F][X] \\longrightarrow F^* = F \\sigma/\\epsilon$ \n",
    "* and for the velocity we have $[Energy] = [Mass][V]^2 \\longrightarrow V^* = V / \\sqrt{\\epsilon/M}$"
   ]
  },
  {
   "cell_type": "code",
   "execution_count": null,
   "id": "3de73711",
   "metadata": {},
   "outputs": [],
   "source": []
  }
 ],
 "metadata": {
  "kernelspec": {
   "display_name": "Python 3 (ipykernel)",
   "language": "python",
   "name": "python3"
  },
  "language_info": {
   "codemirror_mode": {
    "name": "ipython",
    "version": 3
   },
   "file_extension": ".py",
   "mimetype": "text/x-python",
   "name": "python",
   "nbconvert_exporter": "python",
   "pygments_lexer": "ipython3",
   "version": "3.10.9"
  }
 },
 "nbformat": 4,
 "nbformat_minor": 5
}
